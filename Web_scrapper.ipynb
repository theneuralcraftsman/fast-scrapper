{
  "nbformat": 4,
  "nbformat_minor": 0,
  "metadata": {
    "colab": {
      "provenance": [],
      "authorship_tag": "ABX9TyPZdjRqSZKXGxzxCyqLEH5w",
      "include_colab_link": true
    },
    "kernelspec": {
      "name": "python3",
      "display_name": "Python 3"
    },
    "language_info": {
      "name": "python"
    }
  },
  "cells": [
    {
      "cell_type": "markdown",
      "metadata": {
        "id": "view-in-github",
        "colab_type": "text"
      },
      "source": [
        "<a href=\"https://colab.research.google.com/github/theneuralcraftsman/fast-scrapper/blob/main/Web_scrapper.ipynb\" target=\"_parent\"><img src=\"https://colab.research.google.com/assets/colab-badge.svg\" alt=\"Open In Colab\"/></a>"
      ]
    },
    {
      "cell_type": "code",
      "execution_count": null,
      "metadata": {
        "colab": {
          "base_uri": "https://localhost:8080/"
        },
        "id": "e_zBS4jBXAmA",
        "outputId": "352f107b-e955-4f47-f516-f2fac253f7ae"
      },
      "outputs": [
        {
          "output_type": "stream",
          "name": "stdout",
          "text": [
            "Collecting langchain_community\n",
            "  Downloading langchain_community-0.0.24-py3-none-any.whl (1.7 MB)\n",
            "\u001b[2K     \u001b[90m━━━━━━━━━━━━━━━━━━━━━━━━━━━━━━━━━━━━━━━━\u001b[0m \u001b[32m1.7/1.7 MB\u001b[0m \u001b[31m12.4 MB/s\u001b[0m eta \u001b[36m0:00:00\u001b[0m\n",
            "\u001b[?25hRequirement already satisfied: PyYAML>=5.3 in /usr/local/lib/python3.10/dist-packages (from langchain_community) (6.0.1)\n",
            "Requirement already satisfied: SQLAlchemy<3,>=1.4 in /usr/local/lib/python3.10/dist-packages (from langchain_community) (2.0.27)\n",
            "Requirement already satisfied: aiohttp<4.0.0,>=3.8.3 in /usr/local/lib/python3.10/dist-packages (from langchain_community) (3.9.3)\n",
            "Collecting dataclasses-json<0.7,>=0.5.7 (from langchain_community)\n",
            "  Downloading dataclasses_json-0.6.4-py3-none-any.whl (28 kB)\n",
            "Collecting langchain-core<0.2,>=0.1.26 (from langchain_community)\n",
            "  Downloading langchain_core-0.1.26-py3-none-any.whl (246 kB)\n",
            "\u001b[2K     \u001b[90m━━━━━━━━━━━━━━━━━━━━━━━━━━━━━━━━━━━━━━━━\u001b[0m \u001b[32m246.4/246.4 kB\u001b[0m \u001b[31m17.0 MB/s\u001b[0m eta \u001b[36m0:00:00\u001b[0m\n",
            "\u001b[?25hCollecting langsmith<0.2.0,>=0.1.0 (from langchain_community)\n",
            "  Downloading langsmith-0.1.7-py3-none-any.whl (62 kB)\n",
            "\u001b[2K     \u001b[90m━━━━━━━━━━━━━━━━━━━━━━━━━━━━━━━━━━━━━━━━\u001b[0m \u001b[32m62.1/62.1 kB\u001b[0m \u001b[31m8.3 MB/s\u001b[0m eta \u001b[36m0:00:00\u001b[0m\n",
            "\u001b[?25hRequirement already satisfied: numpy<2,>=1 in /usr/local/lib/python3.10/dist-packages (from langchain_community) (1.25.2)\n",
            "Requirement already satisfied: requests<3,>=2 in /usr/local/lib/python3.10/dist-packages (from langchain_community) (2.31.0)\n",
            "Requirement already satisfied: tenacity<9.0.0,>=8.1.0 in /usr/local/lib/python3.10/dist-packages (from langchain_community) (8.2.3)\n",
            "Requirement already satisfied: aiosignal>=1.1.2 in /usr/local/lib/python3.10/dist-packages (from aiohttp<4.0.0,>=3.8.3->langchain_community) (1.3.1)\n",
            "Requirement already satisfied: attrs>=17.3.0 in /usr/local/lib/python3.10/dist-packages (from aiohttp<4.0.0,>=3.8.3->langchain_community) (23.2.0)\n",
            "Requirement already satisfied: frozenlist>=1.1.1 in /usr/local/lib/python3.10/dist-packages (from aiohttp<4.0.0,>=3.8.3->langchain_community) (1.4.1)\n",
            "Requirement already satisfied: multidict<7.0,>=4.5 in /usr/local/lib/python3.10/dist-packages (from aiohttp<4.0.0,>=3.8.3->langchain_community) (6.0.5)\n",
            "Requirement already satisfied: yarl<2.0,>=1.0 in /usr/local/lib/python3.10/dist-packages (from aiohttp<4.0.0,>=3.8.3->langchain_community) (1.9.4)\n",
            "Requirement already satisfied: async-timeout<5.0,>=4.0 in /usr/local/lib/python3.10/dist-packages (from aiohttp<4.0.0,>=3.8.3->langchain_community) (4.0.3)\n",
            "Collecting marshmallow<4.0.0,>=3.18.0 (from dataclasses-json<0.7,>=0.5.7->langchain_community)\n",
            "  Downloading marshmallow-3.20.2-py3-none-any.whl (49 kB)\n",
            "\u001b[2K     \u001b[90m━━━━━━━━━━━━━━━━━━━━━━━━━━━━━━━━━━━━━━━━\u001b[0m \u001b[32m49.4/49.4 kB\u001b[0m \u001b[31m4.9 MB/s\u001b[0m eta \u001b[36m0:00:00\u001b[0m\n",
            "\u001b[?25hCollecting typing-inspect<1,>=0.4.0 (from dataclasses-json<0.7,>=0.5.7->langchain_community)\n",
            "  Downloading typing_inspect-0.9.0-py3-none-any.whl (8.8 kB)\n",
            "Requirement already satisfied: anyio<5,>=3 in /usr/local/lib/python3.10/dist-packages (from langchain-core<0.2,>=0.1.26->langchain_community) (3.7.1)\n",
            "Collecting jsonpatch<2.0,>=1.33 (from langchain-core<0.2,>=0.1.26->langchain_community)\n",
            "  Downloading jsonpatch-1.33-py2.py3-none-any.whl (12 kB)\n",
            "Requirement already satisfied: packaging<24.0,>=23.2 in /usr/local/lib/python3.10/dist-packages (from langchain-core<0.2,>=0.1.26->langchain_community) (23.2)\n",
            "Requirement already satisfied: pydantic<3,>=1 in /usr/local/lib/python3.10/dist-packages (from langchain-core<0.2,>=0.1.26->langchain_community) (2.6.1)\n",
            "Collecting orjson<4.0.0,>=3.9.14 (from langsmith<0.2.0,>=0.1.0->langchain_community)\n",
            "  Downloading orjson-3.9.15-cp310-cp310-manylinux_2_17_x86_64.manylinux2014_x86_64.whl (138 kB)\n",
            "\u001b[2K     \u001b[90m━━━━━━━━━━━━━━━━━━━━━━━━━━━━━━━━━━━━━━━━\u001b[0m \u001b[32m138.5/138.5 kB\u001b[0m \u001b[31m16.6 MB/s\u001b[0m eta \u001b[36m0:00:00\u001b[0m\n",
            "\u001b[?25hRequirement already satisfied: charset-normalizer<4,>=2 in /usr/local/lib/python3.10/dist-packages (from requests<3,>=2->langchain_community) (3.3.2)\n",
            "Requirement already satisfied: idna<4,>=2.5 in /usr/local/lib/python3.10/dist-packages (from requests<3,>=2->langchain_community) (3.6)\n",
            "Requirement already satisfied: urllib3<3,>=1.21.1 in /usr/local/lib/python3.10/dist-packages (from requests<3,>=2->langchain_community) (2.0.7)\n",
            "Requirement already satisfied: certifi>=2017.4.17 in /usr/local/lib/python3.10/dist-packages (from requests<3,>=2->langchain_community) (2024.2.2)\n",
            "Requirement already satisfied: typing-extensions>=4.6.0 in /usr/local/lib/python3.10/dist-packages (from SQLAlchemy<3,>=1.4->langchain_community) (4.9.0)\n",
            "Requirement already satisfied: greenlet!=0.4.17 in /usr/local/lib/python3.10/dist-packages (from SQLAlchemy<3,>=1.4->langchain_community) (3.0.3)\n",
            "Requirement already satisfied: sniffio>=1.1 in /usr/local/lib/python3.10/dist-packages (from anyio<5,>=3->langchain-core<0.2,>=0.1.26->langchain_community) (1.3.0)\n",
            "Requirement already satisfied: exceptiongroup in /usr/local/lib/python3.10/dist-packages (from anyio<5,>=3->langchain-core<0.2,>=0.1.26->langchain_community) (1.2.0)\n",
            "Collecting jsonpointer>=1.9 (from jsonpatch<2.0,>=1.33->langchain-core<0.2,>=0.1.26->langchain_community)\n",
            "  Downloading jsonpointer-2.4-py2.py3-none-any.whl (7.8 kB)\n",
            "Requirement already satisfied: annotated-types>=0.4.0 in /usr/local/lib/python3.10/dist-packages (from pydantic<3,>=1->langchain-core<0.2,>=0.1.26->langchain_community) (0.6.0)\n",
            "Requirement already satisfied: pydantic-core==2.16.2 in /usr/local/lib/python3.10/dist-packages (from pydantic<3,>=1->langchain-core<0.2,>=0.1.26->langchain_community) (2.16.2)\n",
            "Collecting mypy-extensions>=0.3.0 (from typing-inspect<1,>=0.4.0->dataclasses-json<0.7,>=0.5.7->langchain_community)\n",
            "  Downloading mypy_extensions-1.0.0-py3-none-any.whl (4.7 kB)\n",
            "Installing collected packages: orjson, mypy-extensions, marshmallow, jsonpointer, typing-inspect, jsonpatch, langsmith, dataclasses-json, langchain-core, langchain_community\n",
            "Successfully installed dataclasses-json-0.6.4 jsonpatch-1.33 jsonpointer-2.4 langchain-core-0.1.26 langchain_community-0.0.24 langsmith-0.1.7 marshmallow-3.20.2 mypy-extensions-1.0.0 orjson-3.9.15 typing-inspect-0.9.0\n"
          ]
        }
      ],
      "source": [
        "!pip install langchain_community\n"
      ]
    },
    {
      "cell_type": "code",
      "source": [
        "from langchain_community.document_loaders.recursive_url_loader import RecursiveUrlLoader"
      ],
      "metadata": {
        "id": "YSRRMZITXL0D"
      },
      "execution_count": null,
      "outputs": []
    },
    {
      "cell_type": "code",
      "source": [
        "!pip install BeautifulSoup"
      ],
      "metadata": {
        "colab": {
          "base_uri": "https://localhost:8080/"
        },
        "id": "PrXafFE6XXfj",
        "outputId": "a4791e68-2769-4143-c45b-445e62fadf1c"
      },
      "execution_count": null,
      "outputs": [
        {
          "output_type": "stream",
          "name": "stdout",
          "text": [
            "Collecting BeautifulSoup\n",
            "  Downloading BeautifulSoup-3.2.2.tar.gz (32 kB)\n",
            "  \u001b[1;31merror\u001b[0m: \u001b[1msubprocess-exited-with-error\u001b[0m\n",
            "  \n",
            "  \u001b[31m×\u001b[0m \u001b[32mpython setup.py egg_info\u001b[0m did not run successfully.\n",
            "  \u001b[31m│\u001b[0m exit code: \u001b[1;36m1\u001b[0m\n",
            "  \u001b[31m╰─>\u001b[0m See above for output.\n",
            "  \n",
            "  \u001b[1;35mnote\u001b[0m: This error originates from a subprocess, and is likely not a problem with pip.\n",
            "  Preparing metadata (setup.py) ... \u001b[?25l\u001b[?25herror\n",
            "\u001b[1;31merror\u001b[0m: \u001b[1mmetadata-generation-failed\u001b[0m\n",
            "\n",
            "\u001b[31m×\u001b[0m Encountered error while generating package metadata.\n",
            "\u001b[31m╰─>\u001b[0m See above for output.\n",
            "\n",
            "\u001b[1;35mnote\u001b[0m: This is an issue with the package mentioned above, not pip.\n",
            "\u001b[1;36mhint\u001b[0m: See above for details.\n"
          ]
        }
      ]
    },
    {
      "cell_type": "code",
      "source": [
        "from bs4 import BeautifulSoup as Soup\n",
        "\n",
        "url = \"https://casetext.com/cases/\"\n",
        "loader = RecursiveUrlLoader(\n",
        "    url=url, extractor=lambda x: Soup(x, \"html.parser\").text\n",
        ")\n",
        "docs = loader.load()"
      ],
      "metadata": {
        "id": "Vg7extPQXbgP"
      },
      "execution_count": null,
      "outputs": []
    },
    {
      "cell_type": "code",
      "source": [
        "len(docs)"
      ],
      "metadata": {
        "colab": {
          "base_uri": "https://localhost:8080/"
        },
        "id": "maDLWCMjXoOI",
        "outputId": "3d9150c1-d8a3-4b5c-8ba6-a7606a252a8b"
      },
      "execution_count": null,
      "outputs": [
        {
          "output_type": "execute_result",
          "data": {
            "text/plain": [
              "72"
            ]
          },
          "metadata": {},
          "execution_count": 30
        }
      ]
    },
    {
      "cell_type": "code",
      "source": [
        "docs[71].metadata['source']"
      ],
      "metadata": {
        "colab": {
          "base_uri": "https://localhost:8080/",
          "height": 36
        },
        "id": "0gLALiFEZ1mi",
        "outputId": "a3e4294e-f3d0-480c-bf12-431eda0f8511"
      },
      "execution_count": null,
      "outputs": [
        {
          "output_type": "execute_result",
          "data": {
            "text/plain": [
              "'https://casetext.com/cases/fl'"
            ],
            "application/vnd.google.colaboratory.intrinsic+json": {
              "type": "string"
            }
          },
          "metadata": {},
          "execution_count": 41
        }
      ]
    },
    {
      "cell_type": "code",
      "source": [
        "from bs4 import BeautifulSoup as Soup\n",
        "\n",
        "url = docs[71].metadata['source']\n",
        "loader = RecursiveUrlLoader(\n",
        "    url=url, extractor=lambda x: Soup(x, \"html.parser\").text\n",
        ")\n",
        "new_doc = loader.load()"
      ],
      "metadata": {
        "id": "PYP6gZPbaPtg"
      },
      "execution_count": null,
      "outputs": []
    },
    {
      "cell_type": "code",
      "source": [
        "new_doc[1].metadata['source']"
      ],
      "metadata": {
        "colab": {
          "base_uri": "https://localhost:8080/"
        },
        "id": "34931PvwX-Qn",
        "outputId": "44b658f8-7cad-419c-94ed-8026f9f881c6"
      },
      "execution_count": null,
      "outputs": [
        {
          "output_type": "execute_result",
          "data": {
            "text/plain": [
              "3"
            ]
          },
          "metadata": {},
          "execution_count": 44
        }
      ]
    },
    {
      "cell_type": "code",
      "source": [
        "from bs4 import BeautifulSoup as Soup\n",
        "\n",
        "url = new_doc[1].metadata['source']\n",
        "loader = RecursiveUrlLoader(\n",
        "    url=url, max_depth=2, extractor=lambda x: Soup(x, \"html.parser\").text\n",
        ")\n",
        "new_doc_2 = loader.load()"
      ],
      "metadata": {
        "id": "xtmDGcCcc3p0"
      },
      "execution_count": null,
      "outputs": []
    },
    {
      "cell_type": "code",
      "source": [
        "new_doc_2[1]"
      ],
      "metadata": {
        "colab": {
          "base_uri": "https://localhost:8080/"
        },
        "id": "PcOFsktJd9XO",
        "outputId": "5c1fa3cb-4aa2-4b23-df24-de24c2d613f0"
      },
      "execution_count": null,
      "outputs": [
        {
          "output_type": "execute_result",
          "data": {
            "text/plain": [
              "Document(page_content='\\n\\nDistrict Court of Appeal of Florida 1995 cases | Casetext\\n\\n\\n\\n\\n\\n\\n\\n\\nAll State & Fed.JXSearch the LawSearch§Why CasetextPricing HelpSign InFree TrialFree TrialBrowse casesFloridaDistrict Court of Appeal1995District Court of Appeal of Florida 1995 casesJanuary(292)February(365)March(444)April(398)May(407)June(417)July(310)August(408)September(349)October(329)November(378)December(425) Make your practice more effective and efficient with Casetext’s legal research suite. Get a DemoPricingSwitchBig firmCoverageSmartCiteLaw school accessBar associationsAbout usJobsBlogTwitterFacebookLinkedInInstagramHelp articlesCustomer supportContact salesCookie SettingsDo Not Sell or Share My Personal Information/Limit the Use of My Sensitive Personal InformationPrivacyTerms© 2024 Casetext Inc.Casetext, Inc. and Casetext are not a law firm and do not provide legal advice.\\n\\n\\n\\n\\n\\n\\n\\n', metadata={'source': 'https://casetext.com/cases/fl/flapp/1995', 'title': 'District Court of Appeal of Florida 1995 cases | Casetext', 'language': 'en'})"
            ]
          },
          "metadata": {},
          "execution_count": 73
        }
      ]
    },
    {
      "cell_type": "code",
      "source": [
        "len(new_doc_2)"
      ],
      "metadata": {
        "colab": {
          "base_uri": "https://localhost:8080/"
        },
        "id": "0W_4OJvrc8Ui",
        "outputId": "f946b119-806e-406e-e619-7458b650f082"
      },
      "execution_count": null,
      "outputs": [
        {
          "output_type": "execute_result",
          "data": {
            "text/plain": [
              "69"
            ]
          },
          "metadata": {},
          "execution_count": 52
        }
      ]
    },
    {
      "cell_type": "code",
      "source": [
        "from bs4 import BeautifulSoup as Soup\n",
        "\n",
        "url = \"https://casetext.com/cases/\"\n",
        "loader = RecursiveUrlLoader(\n",
        "    url=url, max_depth=1, extractor=lambda x: Soup(x, \"html.parser\").text\n",
        ")\n",
        "new_doc_2 = loader.load()"
      ],
      "metadata": {
        "id": "9K4MDIXkhbZu"
      },
      "execution_count": null,
      "outputs": []
    },
    {
      "cell_type": "code",
      "source": [
        "new_doc_2"
      ],
      "metadata": {
        "colab": {
          "base_uri": "https://localhost:8080/"
        },
        "id": "WGE37_jihjDY",
        "outputId": "59bf8576-426f-40da-ef19-66ee0bb437dc"
      },
      "execution_count": null,
      "outputs": [
        {
          "output_type": "execute_result",
          "data": {
            "text/plain": [
              "[Document(page_content='Just a moment...Enable JavaScript and cookies to continue', metadata={'source': 'https://casetext.com/cases/', 'title': 'Just a moment...', 'language': 'en-US'})]"
            ]
          },
          "metadata": {},
          "execution_count": 28
        }
      ]
    },
    {
      "cell_type": "code",
      "source": [
        "from bs4 import BeautifulSoup as Soup\n",
        "\n",
        "url = \"https://casetext.com/cases/us/2023/1\"\n",
        "loader = RecursiveUrlLoader(\n",
        "    url=url, max_depth=3\n",
        ")\n",
        "new_doc_3 = loader.load()"
      ],
      "metadata": {
        "id": "QXBKWziUgWJK"
      },
      "execution_count": null,
      "outputs": []
    },
    {
      "cell_type": "code",
      "source": [
        "new_doc_3"
      ],
      "metadata": {
        "colab": {
          "base_uri": "https://localhost:8080/"
        },
        "id": "X-HpE2wzKuiC",
        "outputId": "ffcbada2-6108-478e-9d7f-f46c51615b37"
      },
      "execution_count": null,
      "outputs": [
        {
          "output_type": "execute_result",
          "data": {
            "text/plain": [
              "[Document(page_content='<!DOCTYPE html><html lang=\"en-US\"><head><title>Just a moment...</title><meta http-equiv=\"Content-Type\" content=\"text/html; charset=UTF-8\"><meta http-equiv=\"X-UA-Compatible\" content=\"IE=Edge\"><meta name=\"robots\" content=\"noindex,nofollow\"><meta name=\"viewport\" content=\"width=device-width,initial-scale=1\"><style>*{box-sizing:border-box;margin:0;padding:0}html{line-height:1.15;-webkit-text-size-adjust:100%;color:#313131}button,html{font-family:system-ui,-apple-system,BlinkMacSystemFont,Segoe UI,Roboto,Helvetica Neue,Arial,Noto Sans,sans-serif,Apple Color Emoji,Segoe UI Emoji,Segoe UI Symbol,Noto Color Emoji}@media (prefers-color-scheme:dark){body{background-color:#222;color:#d9d9d9}body a{color:#fff}body a:hover{color:#ee730a;text-decoration:underline}body .lds-ring div{border-color:#999 transparent transparent}body .font-red{color:#b20f03}body .big-button,body .pow-button{background-color:#4693ff;color:#1d1d1d}body #challenge-success-text{background-image:url(data:image/svg+xml;base64,PHN2ZyB4bWxucz0iaHR0cDovL3d3dy53My5vcmcvMjAwMC9zdmciIHdpZHRoPSIzMiIgaGVpZ2h0PSIzMiIgZmlsbD0ibm9uZSIgdmlld0JveD0iMCAwIDI2IDI2Ij48cGF0aCBmaWxsPSIjZDlkOWQ5IiBkPSJNMTMgMGExMyAxMyAwIDEgMCAwIDI2IDEzIDEzIDAgMCAwIDAtMjZtMCAyNGExMSAxMSAwIDEgMSAwLTIyIDExIDExIDAgMCAxIDAgMjIiLz48cGF0aCBmaWxsPSIjZDlkOWQ5IiBkPSJtMTAuOTU1IDE2LjA1NS0zLjk1LTQuMTI1LTEuNDQ1IDEuMzg1IDUuMzcgNS42MSA5LjQ5NS05LjYtMS40Mi0xLjQwNXoiLz48L3N2Zz4=)}body #challenge-error-text{background-image:url(data:image/svg+xml;base64,PHN2ZyB4bWxucz0iaHR0cDovL3d3dy53My5vcmcvMjAwMC9zdmciIHdpZHRoPSIzMiIgaGVpZ2h0PSIzMiIgZmlsbD0ibm9uZSI+PHBhdGggZmlsbD0iI0IyMEYwMyIgZD0iTTE2IDNhMTMgMTMgMCAxIDAgMTMgMTNBMTMuMDE1IDEzLjAxNSAwIDAgMCAxNiAzbTAgMjRhMTEgMTEgMCAxIDEgMTEtMTEgMTEuMDEgMTEuMDEgMCAwIDEtMTEgMTEiLz48cGF0aCBmaWxsPSIjQjIwRjAzIiBkPSJNMTcuMDM4IDE4LjYxNUgxNC44N0wxNC41NjMgOS41aDIuNzgzem0tMS4wODQgMS40MjdxLjY2IDAgMS4wNTcuMzg4LjQwNy4zODkuNDA3Ljk5NCAwIC41OTYtLjQwNy45ODQtLjM5Ny4zOS0xLjA1Ny4zODktLjY1IDAtMS4wNTYtLjM4OS0uMzk4LS4zODktLjM5OC0uOTg0IDAtLjU5Ny4zOTgtLjk4NS40MDYtLjM5NyAxLjA1Ni0uMzk3Ii8+PC9zdmc+)}}body{display:flex;flex-direction:column;min-height:100vh}body.no-js .loading-spinner{visibility:hidden}body.no-js .challenge-running{display:none}body.dark{background-color:#222;color:#d9d9d9}body.dark a{color:#fff}body.dark a:hover{color:#ee730a;text-decoration:underline}body.dark .lds-ring div{border-color:#999 transparent transparent}body.dark .font-red{color:#b20f03}body.dark .big-button,body.dark .pow-button{background-color:#4693ff;color:#1d1d1d}body.dark #challenge-success-text{background-image:url(data:image/svg+xml;base64,PHN2ZyB4bWxucz0iaHR0cDovL3d3dy53My5vcmcvMjAwMC9zdmciIHdpZHRoPSIzMiIgaGVpZ2h0PSIzMiIgZmlsbD0ibm9uZSIgdmlld0JveD0iMCAwIDI2IDI2Ij48cGF0aCBmaWxsPSIjZDlkOWQ5IiBkPSJNMTMgMGExMyAxMyAwIDEgMCAwIDI2IDEzIDEzIDAgMCAwIDAtMjZtMCAyNGExMSAxMSAwIDEgMSAwLTIyIDExIDExIDAgMCAxIDAgMjIiLz48cGF0aCBmaWxsPSIjZDlkOWQ5IiBkPSJtMTAuOTU1IDE2LjA1NS0zLjk1LTQuMTI1LTEuNDQ1IDEuMzg1IDUuMzcgNS42MSA5LjQ5NS05LjYtMS40Mi0xLjQwNXoiLz48L3N2Zz4=)}body.dark #challenge-error-text{background-image:url(data:image/svg+xml;base64,PHN2ZyB4bWxucz0iaHR0cDovL3d3dy53My5vcmcvMjAwMC9zdmciIHdpZHRoPSIzMiIgaGVpZ2h0PSIzMiIgZmlsbD0ibm9uZSI+PHBhdGggZmlsbD0iI0IyMEYwMyIgZD0iTTE2IDNhMTMgMTMgMCAxIDAgMTMgMTNBMTMuMDE1IDEzLjAxNSAwIDAgMCAxNiAzbTAgMjRhMTEgMTEgMCAxIDEgMTEtMTEgMTEuMDEgMTEuMDEgMCAwIDEtMTEgMTEiLz48cGF0aCBmaWxsPSIjQjIwRjAzIiBkPSJNMTcuMDM4IDE4LjYxNUgxNC44N0wxNC41NjMgOS41aDIuNzgzem0tMS4wODQgMS40MjdxLjY2IDAgMS4wNTcuMzg4LjQwNy4zODkuNDA3Ljk5NCAwIC41OTYtLjQwNy45ODQtLjM5Ny4zOS0xLjA1Ny4zODktLjY1IDAtMS4wNTYtLjM4OS0uMzk4LS4zODktLjM5OC0uOTg0IDAtLjU5Ny4zOTgtLjk4NS40MDYtLjM5NyAxLjA1Ni0uMzk3Ii8+PC9zdmc+)}body.light{background-color:transparent;color:#313131}body.light a{color:#0051c3}body.light a:hover{color:#ee730a;text-decoration:underline}body.light .lds-ring div{border-color:#595959 transparent transparent}body.light .font-red{color:#fc574a}body.light .big-button,body.light .pow-button{background-color:#003681;border-color:#003681;color:#fff}body.light #challenge-success-text{background-image:url(data:image/svg+xml;base64,PHN2ZyB4bWxucz0iaHR0cDovL3d3dy53My5vcmcvMjAwMC9zdmciIHdpZHRoPSIzMiIgaGVpZ2h0PSIzMiIgZmlsbD0ibm9uZSIgdmlld0JveD0iMCAwIDI2IDI2Ij48cGF0aCBmaWxsPSIjMzEzMTMxIiBkPSJNMTMgMGExMyAxMyAwIDEgMCAwIDI2IDEzIDEzIDAgMCAwIDAtMjZtMCAyNGExMSAxMSAwIDEgMSAwLTIyIDExIDExIDAgMCAxIDAgMjIiLz48cGF0aCBmaWxsPSIjMzEzMTMxIiBkPSJtMTAuOTU1IDE2LjA1NS0zLjk1LTQuMTI1LTEuNDQ1IDEuMzg1IDUuMzcgNS42MSA5LjQ5NS05LjYtMS40Mi0xLjQwNXoiLz48L3N2Zz4=)}body.light #challenge-error-text{background-image:url(data:image/svg+xml;base64,PHN2ZyB4bWxucz0iaHR0cDovL3d3dy53My5vcmcvMjAwMC9zdmciIHdpZHRoPSIzMiIgaGVpZ2h0PSIzMiIgZmlsbD0ibm9uZSI+PHBhdGggZmlsbD0iI2ZjNTc0YSIgZD0iTTE2IDNhMTMgMTMgMCAxIDAgMTMgMTNBMTMuMDE1IDEzLjAxNSAwIDAgMCAxNiAzbTAgMjRhMTEgMTEgMCAxIDEgMTEtMTEgMTEuMDEgMTEuMDEgMCAwIDEtMTEgMTEiLz48cGF0aCBmaWxsPSIjZmM1NzRhIiBkPSJNMTcuMDM4IDE4LjYxNUgxNC44N0wxNC41NjMgOS41aDIuNzgzem0tMS4wODQgMS40MjdxLjY2IDAgMS4wNTcuMzg4LjQwNy4zODkuNDA3Ljk5NCAwIC41OTYtLjQwNy45ODQtLjM5Ny4zOS0xLjA1Ny4zODktLjY1IDAtMS4wNTYtLjM4OS0uMzk4LS4zODktLjM5OC0uOTg0IDAtLjU5Ny4zOTgtLjk4NS40MDYtLjM5NyAxLjA1Ni0uMzk3Ii8+PC9zdmc+)}a{background-color:transparent;color:#0051c3;text-decoration:none;transition:color .15s ease}a:hover{color:#ee730a;text-decoration:underline}.main-content{margin:8rem auto;max-width:60rem;width:100%}.heading-favicon{height:2rem;margin-right:.5rem;width:2rem}@media (width <= 720px){.main-content{margin-top:4rem}.heading-favicon{height:1.5rem;width:1.5rem}}.footer,.main-content{padding-left:1.5rem;padding-right:1.5rem}.main-wrapper{align-items:center;display:flex;flex:1;flex-direction:column}.font-red{color:#b20f03}.spacer{margin:2rem 0}.h1{font-size:2.5rem;font-weight:500;line-height:3.75rem}.h2{font-weight:500}.core-msg,.h2{font-size:1.5rem;line-height:2.25rem}.body-text,.core-msg{font-weight:400}.body-text{font-size:1rem;line-height:1.25rem}@media (width <= 720px){.h1{font-size:1.5rem;line-height:1.75rem}.h2{font-size:1.25rem}.core-msg,.h2{line-height:1.5rem}.core-msg{font-size:1rem}}#challenge-error-text{background-image:url(data:image/svg+xml;base64,PHN2ZyB4bWxucz0iaHR0cDovL3d3dy53My5vcmcvMjAwMC9zdmciIHdpZHRoPSIzMiIgaGVpZ2h0PSIzMiIgZmlsbD0ibm9uZSI+PHBhdGggZmlsbD0iI2ZjNTc0YSIgZD0iTTE2IDNhMTMgMTMgMCAxIDAgMTMgMTNBMTMuMDE1IDEzLjAxNSAwIDAgMCAxNiAzbTAgMjRhMTEgMTEgMCAxIDEgMTEtMTEgMTEuMDEgMTEuMDEgMCAwIDEtMTEgMTEiLz48cGF0aCBmaWxsPSIjZmM1NzRhIiBkPSJNMTcuMDM4IDE4LjYxNUgxNC44N0wxNC41NjMgOS41aDIuNzgzem0tMS4wODQgMS40MjdxLjY2IDAgMS4wNTcuMzg4LjQwNy4zODkuNDA3Ljk5NCAwIC41OTYtLjQwNy45ODQtLjM5Ny4zOS0xLjA1Ny4zODktLjY1IDAtMS4wNTYtLjM4OS0uMzk4LS4zODktLjM5OC0uOTg0IDAtLjU5Ny4zOTgtLjk4NS40MDYtLjM5NyAxLjA1Ni0uMzk3Ii8+PC9zdmc+);padding-left:34px}#challenge-error-text,#challenge-success-text{background-repeat:no-repeat;background-size:contain}#challenge-success-text{background-image:url(data:image/svg+xml;base64,PHN2ZyB4bWxucz0iaHR0cDovL3d3dy53My5vcmcvMjAwMC9zdmciIHdpZHRoPSIzMiIgaGVpZ2h0PSIzMiIgZmlsbD0ibm9uZSIgdmlld0JveD0iMCAwIDI2IDI2Ij48cGF0aCBmaWxsPSIjMzEzMTMxIiBkPSJNMTMgMGExMyAxMyAwIDEgMCAwIDI2IDEzIDEzIDAgMCAwIDAtMjZtMCAyNGExMSAxMSAwIDEgMSAwLTIyIDExIDExIDAgMCAxIDAgMjIiLz48cGF0aCBmaWxsPSIjMzEzMTMxIiBkPSJtMTAuOTU1IDE2LjA1NS0zLjk1LTQuMTI1LTEuNDQ1IDEuMzg1IDUuMzcgNS42MSA5LjQ5NS05LjYtMS40Mi0xLjQwNXoiLz48L3N2Zz4=);padding-left:42px}.text-center{text-align:center}.big-button{border:.063rem solid #0051c3;border-radius:.313rem;font-size:.875rem;line-height:1.313rem;padding:.375rem 1rem;transition-duration:.2s;transition-property:background-color,border-color,color;transition-timing-function:ease}.big-button:hover{cursor:pointer}.captcha-prompt:not(.hidden){display:flex}@media (width <= 720px){.captcha-prompt:not(.hidden){flex-wrap:wrap;justify-content:center}}.pow-button{background-color:#0051c3;color:#fff;margin:2rem 0}.pow-button:hover{background-color:#003681;border-color:#003681;color:#fff}.footer{font-size:.75rem;line-height:1.125rem;margin:0 auto;max-width:60rem;width:100%}.footer-inner{border-top:1px solid #d9d9d9;padding-bottom:1rem;padding-top:1rem}.clearfix:after{clear:both;content:\"\";display:table}.clearfix .column{float:left;padding-right:1.5rem;width:50%}.diagnostic-wrapper{margin-bottom:.5rem}.footer .ray-id{text-align:center}.footer .ray-id code{font-family:monaco,courier,monospace}.core-msg,.zone-name-title{overflow-wrap:break-word}@media (width <= 720px){.diagnostic-wrapper{display:flex;flex-wrap:wrap;justify-content:center}.clearfix:after{clear:none;content:none;display:initial;text-align:center}.column{padding-bottom:2rem}.clearfix .column{float:none;padding:0;width:auto;word-break:keep-all}.zone-name-title{margin-bottom:1rem}}.loading-spinner{height:76.391px}.lds-ring{display:inline-block;position:relative}.lds-ring,.lds-ring div{height:1.875rem;width:1.875rem}.lds-ring div{animation:lds-ring 1.2s cubic-bezier(.5,0,.5,1) infinite;border:.3rem solid transparent;border-radius:50%;border-top-color:#313131;box-sizing:border-box;display:block;position:absolute}.lds-ring div:first-child{animation-delay:-.45s}.lds-ring div:nth-child(2){animation-delay:-.3s}.lds-ring div:nth-child(3){animation-delay:-.15s}@keyframes lds-ring{0%{transform:rotate(0)}to{transform:rotate(1turn)}}@media screen and (-ms-high-contrast:active),screen and (-ms-high-contrast:none){.main-wrapper,body{display:block}}</style><meta http-equiv=\"refresh\" content=\"105\"></head><body class=\"no-js\"><div class=\"main-wrapper\" role=\"main\"><div class=\"main-content\"><noscript><div id=\"challenge-error-title\"><div class=\"h2\"><span id=\"challenge-error-text\">Enable JavaScript and cookies to continue</span></div></div></noscript></div></div><script>(function(){window._cf_chl_opt={cvId: \\'3\\',cZone: \"casetext.com\",cType: \\'non-interactive\\',cNounce: \\'93379\\',cRay: \\'85a7d5a548ca1c7d\\',cHash: \\'1679afdcfcf3437\\',cUPMDTk: \"\\\\/cases\\\\/us\\\\/2023\\\\/1?__cf_chl_tk=li6hiYtSDcPHtpv7f6sM6vyxrK.GmQ0K_SVzdQwACfs-1708779029-0.0-3111\",cFPWv: \\'b\\',cTTimeMs: \\'1000\\',cMTimeMs: \\'105000\\',cTplV: 5,cTplB: \\'cf\\',cK: \"visitor-time\",fa: \"\\\\/cases\\\\/us\\\\/2023\\\\/1?__cf_chl_f_tk=li6hiYtSDcPHtpv7f6sM6vyxrK.GmQ0K_SVzdQwACfs-1708779029-0.0-3111\",md: \"fLdWqYmePF9XRYzAcFQkerJ_m.r6C8glculqA1NtUlo-1708779029-1.1-ARxBWLAzfZ46AMh_RduPAZpZNfPf_Js4ILx2oJbq0m-pebNTwJVtSnZo3fhndlshRCZZobG4UNpOG2UrqX-7lurGIInl3_LYZUa_IQKyqvn8rGJKfpFjb9P8ncjx1bdpP2giZxm0luA3wwoILb3fdm3bEaN6rJtWzkJXRcWT0V-rygE85xoX5GYQzJeuUwgglU9OaC8Hp6Z8RW-4SB5tZXs7varv_6vArWUJ5NPD3Poy_u4zJKddwTNxjHD_ULqejfRMHrZ3lYHXvpXHaOdoOJ7F_dUKki6up9O8TbeewXP_SfBhT6M9JwS-Ae1gUBWgHqEhSW9uQwcjr7X46nBkyo6OcTIRIHWGPk61xHfxKu7fSX2eoS981iNyHPfjpcU0bWSGXo0DwALvzlIEy_XhavSs7c6Z-V939wf8x-honyiJGJ5tbjKge3hRoe0bbQ03S-4pGrowtvNSoMw5vxomBVptL1cZdHniwB7PaJl6XrvtAIZR4bg0OQKqa0DR1ogbU2F2V-sy6TUqEmjKXhT2PjWadV_z07uIu2cV0eBSGMeknMxV1m0zBe_yS-msyhlIr1HJXALPVXwuonX4o3P4f7bfGXbU7JVj5mdTB3nArNGDlF-NXnc6po87GCPwUjWfHbrRkygRGe85JvJBg2Nh8ddx7qSIoo4xnavdVX1LLTKzm9WUUmG5pKv9BLNv-CRKsZ_aLQqSglkVSSM2-DO3xuj0cBOC7u_ZLL23vEqEoajJznkhdXLMJkgH9KAFY79FxRIk87HFVCYljtPl6aJK0IeVjW7svJ0Ik3DSA5Vad1st8pujFwNquXMsLDiCzpVZDBu8yFa9WV_0dnqdVBHwxBgA4gIJWhQFRO5BnH0MstmtWBsG9XCYc4HsJRV2mUHB1TP_lOUMEDW0w2W8c8X5W8kaIMYrc7aZbm7cJxWyUyaTTRoSAuiqMfF9z3gFMr_C_cyavJ49YtQIQQTFyhwUxCptV14UZ1ajn1_jmlpy7JYxrj61tD3yz9zaXjko45yS160rv9x83LNW4lZEf5KqmSfIjOWJeNOuJUH2FV4jEPEC0DYpH6IXsTlfuT4bE4ascAvay_imIk8Ifcm36r2i3hhhHFENzY_DZo7rmRFyi8d7-ajKzzdbZz0v3_WtOEA6mtoxqB8kp1lkC7OhiWVqk6udHBJf_rTK0muB3n-D6s1kd7dFxZeETA9vYj4HXjeYlatYYKOPXYF7-vRHBAyMlesCVOVKkTwablqNlUZpJ4jBptkX56SvZ5__6WVoY5pMVJhTh963GGJSS0bOJMz0ekLEDproekNa50IVs3Cf3x-rTmdL0OBEiYh4kXSi5RB5jrGUGDm2t1ubmi4_6cMzpQWVcKHW-Uqd1emhIQrc-kL1dPZHD4_CyuHTzywA2gPGA6jBooehsh9t_pWGVY0_S9bwgxRU01eYfuWGKHNBL0GgDXF53Z7JoJKcuUwK73kDAtYd1YswVGSoVxIVBCW2A9JjVR-dmga1H7_RL0NebI29a3_MtFvSR9kQ73GLnjZmtRA-EBALc16vNV_SYxS1f318xOwNEX5foSajnlGOxO_-4QEV9-UXGn0P-GHWb-AXf2a8p2C5ShQM2ZZkEePIGYeI6rRDA-GNSXkcPlUN0iQbUHrUxHvytUDBBbQScl1cMhf_nCPEHUsxsPUZ551LfwatrS0EjpC4RlTaihjz2vt1_FCHG40tiTDOxZAOHT8g4gp3BZ3jH4iTuOTTCSTG-_k49o6qdIzjDeeU-CE0437OYNElsXGQ7tEfZnAcsJq3nurGV5doImUFlWvnDtntprHBXG9iwi0V6HjkdnjsHyza3HQhtXKI-ImMgJLR2jTkEe4PAQ1hwVEMn4RqquAHIX6NK1KQQrBuj8wIgce27ybDrB1ppRY_kXWqw91bJznN9utopLyF8V5HvKtOBq3Qnckw6TibBUID-ZdMFxDI5cDH-SaHIYHcOPdLZNMbWKejMeuxFIsQt7HREfzzQfY17h8W4_TOg3Wr8ZCEJgpeq5BwLb1uywq3NEefVZWyGRQNwYA8lly9Bn4Zl36p2ZyHqIUB7yrOfb6b5bAkgxBul_lIKx32EMQEjvgA88P0TakrCzQQZiy1ElmiDWV8bJR5Mdg1Q0eJ6Llmh-wJKxRqBGJw2A3vmwJrSglCM8Hk8iseNr3dnzPaP6FjD41b1WeFBbgkypZZgPytI9uOcua9mBYew_8HxgYel7YQbtpXlVGNnXM924cQXV_7SNd3E9gDp8sK7iuK5a4Pj7c7CvmznfZw-7C6U9_FAQOeSz89kVGiQcNJUJhQezRMrmCgkX29G2Ps_KG7L5cWdaNa7FK0LGLTx36QWNGiMkmjNXwPGkvGyn_-4_TdMrjv9Hjor3up4nBT8gzNEAf2SQCciYn5rieN87GsRyljf5Bj0bD7oiJL5bdMKWzfPRnZ9ymHbMJNXefWRhIAkxNOeryLS0Jfw7TRhDuGr8hAveSEaHjiLZUquK0yhCGY9PjbnmTO3uPwc_CTpgBGV1lZy9rSWmCPYOj_P-ayeZVdOAUF5hGmsWuQmJN8Flfz1SkPpbbHHsaw8LRztqdAoF8pDsUxas4e8Xo4PiJHRJTW1wRes3waR_NKiyY_16q0AbujK3g4yCN9WMTYoniQ0-1I10IJRp5KUuI2Q0SFz3vm0Q883fhQYc76AAkekQ2EvX1MwGNeUkIkwawR38J26yKwXor6MTMp96iKtXGL0FJ4yoRo60ZNq9AuyUCQNlv8dKLX6Ylc_XgHufWYKnvmHjX01d1FqdIBSLdDhQixJUotNWXvEb3s0E769hGb6w-R33UXIZM4Gakd-NRmmwZU-FOuLqHgGZCxmtJ5sNJA65L-OkML1xM4WoT9FeyMg5xHjj35Oi9UUiQlohpC4GZIzPd5xrPdeNp4iXTVBqAkhubGzqZx6o8UHk-7wcJWY3xDlDybliokc1mXUQpV4dYuZZTHJCSbfLmziUNUlGYNcmR5H8Jals9SjGHtu_D_OZldcuuVLNXj7_uHJiXSnMVUqYh9eICXCO1-i-Rv\",mdrd: \"o4eLyoyiPsiNTHaPOby8rkSfWkjgY2cMNLmxxGbw2lo-1708779029-1.1-ARnjG1xULmBl8IvlPbL0mvBaT1ZSp9OxUCcRaYG7LlggCKlpKxWJAFyCml5NB509WduvgSD9ZOKjYlajh5WxeHMErrmyf9A9IBM5GsyTkQFk2uKzFjFIZIGB7m9JuDztR954dCbbfSjhxQ0AznwHVb9HuhfT1foRdSc2zXq49zyn-k8tK5V_eHukJL2hqjWwA1spKkORcBFh1aB1OsUov0Fux0Y1NtS89cnktMd46x2MSQvsKbOQKVIdTwWXQOuH5jGOyfy_a3dxF9w0c_vsgKFOIPtejLdBOa5CXqcq4Mh0Gn3ZNg_VaZIRcHNmVf7_kuatQtMWZ7lLc250EiNtpgvndktkK-aPycv-VE8KWMS1vfSDfva-QkhrFb4cBUsGgYLk2D3deJOmDaypoBm-ab84nE2Eh3riJ-Vm67547kgqDEOqegpFx4PlZwEU9Q3Uqt6z6PyXCWb5QduNWct2LFEkzMq_Kwerl_YENZxgrvqaj2kh_R8r5Ip-dtokU_I7N79EVFQnpDYwPTW0SdYxhg3LIFAfX2w0Pjt1qsxjouJUB4CH_OOCHZ8HSylKE0z11gZ9drm_F6-Z76dLpf-KHoq6_UTiLIR4cWAqfefgsZbv4lGi9PDJHRopqzC9UNhNtSaMzrm_lcUhzIh5eNTZC-PRf9zyUc2fns5l8gMC66JRhNb3U2nunn_1wUSU6i3y2qvjz5Ub7ZXn6npfPtD-CJ3srzwDZY__kP8G_lp--FSnfSckpFdujJ-p-zcQsTmuo0Hnv8BHTvMHXCXwBmNQO5PeZ4UVnvC5sW5XZjf3rONXmrNf8qm2vwQ9Ehf5BxFsZIqDL2PKCwj2aHhxyHGdmqASPpeBCVfexe8kaLolFcFbkN-UD9Sb9dWJkl8XQHVCg7IoXcKHuURs8n4qZwne8-TDQH7rrEXIAImBOgJ4tidgxWtrZ-Jdg8ImnT28EtJh9kIXPrRdMmQxHtpI0uAVDgwYM0pOxgHUVs7PqljvHUA7nVFQCvPfwtTfG-gOWFCP4J-11kXOmEh-A1TWK1Lx_X7bs5ZwDoDe_3k4yhyuEEmGN-efAFBPmzNI48qUQgilsxxLkYWw9VcB6-3WLWtMCggMcN-TbZ67Ly6Uy9VPFMAq5m4JVpG9--aFAJprOZ4iNIjHXa4b55qncV_RA11yzAad0bwTjXe5rX5Q2OsAJ5zOTjVSEBytr4M9BPM781KTEZPUoVsO3kT9wjCHwLHg-jtsPsoO-LhiZjFjsqJn4RPzrSLkMct4rzMRdWstU7UHXkPe1cWtxHXRrRkODBepF6ealBnNlzFYlZ7SWBms2gu8uP-EltNrYWoSqr2Bb3rz_CQ1S_aZz7rb67-YYmOI0ptjFd9aWmnI0tSTLNHeVp-svPcPL-KAc-WSDasgKBNgQp4aG10pz-20DYOo8TkFzVju4u6vu7feQANl8hqbYBrFWNrMNrgCU5ItTJoGM0G8UcXl0CshTU7iLQ6zC4QvmwnT6Vm57W2_9zeb9dnI0Od8CH1YPp_lRCEo6BRz7_jNr3CvcCnNoY3WVQ_vHPebtJkbMIi9ZO979oFacsDFnaalobw1fGYxwTmWwGqwGliUPD7WrvJjyTHRhAZnF5TtdvF-lfhFEnE9aIBUt8M8sxPAbatz2Utz3fV7kd1MVOvu08dIUrPk4IFDLszalG9T0Lz3hoC2xjvsFM6VhGs5N61m_rJZLekiTNFnH1m9MbZO4tYHUFNQoqRb2ZVFe5dcFH5WPiVZjxPt3ABMveLTcicw1TwrceChJAMcvsgN052MoQc9M-idGnLOv1khqk9CzLM\",cRq: {ru: \\'aHR0cHM6Ly9jYXNldGV4dC5jb20vY2FzZXMvdXMvMjAyMy8x\\',ra: \\'cHl0aG9uLXJlcXVlc3RzLzIuMzEuMA==\\',rm: \\'R0VU\\',d: \\'Oa7jN4W7c0WNUmjzo3ZX1O2e+UPQ8zf/jWyR7hZmqOKTYJZbEW+H6WPp5kCIuyZ1wjwgXxWttLqZ5szknqtooM1ye0UuCKzVwzFxYHQUyGRDtrH3Jv2tbJsxy51Ochluogan4g29sB1u5QZW6p5HyoAuebGHS1dEY/SSx4MRkajVaE/8WYc410HNPYHFQ+/T4xcV8UZg4dg/mBj/xXD7bDhSQN4D9+jMUG2x3CJ3C25dWo5e7u2KTblzb/GAy9GlD2/Y3eLPZJ6/5R7t1QbjhCtcmBII4mVzw+eIgHiTniNdTj3VJiBvq8WREJSQBEYu72uIg57Kilk4q8SycOig6USDJzJm/vGaxejjJByUrcKLBRLaP28lqWcEb9FguMkRJxnwCrMwkd59q05JmS5+JzRES6IceI6Eg0ydp9wkGdg3bU7Wj1xOBsbZ17IUpdOXWZpRuexvJCHN+fE0Tu8WZqQ66FY2DnCPOK5tEBpG2ad6B+6EqGijG27ewH0qUlHJwaCI5mOKNiXwggIETTF7z0fo2fc062MsmD8zsgkgoy0Ujqy4JNryifLQOOD3zaDABW0S5taZLpBCwuTTX4RZag==\\',t: \\'MTcwODc3OTAyOS4zMzAwMDA=\\',cT: Math.floor(Date.now() / 1000),m: \\'zAPFEPZ+jyJpq9tNI6YDlTqvTwWwF4qcyt9rV7SlrZ0=\\',i1: \\'xIJvCskyg+pz0UyG6em/bg==\\',i2: \\'ooyIHDucaqgyi6Q5doRPRw==\\',zh: \\'n/okXsMkQ10VyBLHvX3QPvknxW4WDIl2tfcFY9TfZxQ=\\',uh: \\'YE9XOpG5TeHmhA1zfs5mxC8CrRZzq2a/+r+OU7dliYQ=\\',hh: \\'Z1qKMiUzh6iz8z3kRF0bruO2HFKMqXMHd0fZCsxd3tU=\\',}};var cpo = document.createElement(\\'script\\');cpo.src = \\'/cdn-cgi/challenge-platform/h/b/orchestrate/chl_page/v1?ray=85a7d5a548ca1c7d\\';window._cf_chl_opt.cOgUHash = location.hash === \\'\\' && location.href.indexOf(\\'#\\') !== -1 ? \\'#\\' : location.hash;window._cf_chl_opt.cOgUQuery = location.search === \\'\\' && location.href.slice(0, location.href.length - window._cf_chl_opt.cOgUHash.length).indexOf(\\'?\\') !== -1 ? \\'?\\' : location.search;if (window.history && window.history.replaceState) {var ogU = location.pathname + window._cf_chl_opt.cOgUQuery + window._cf_chl_opt.cOgUHash;history.replaceState(null, null, \"\\\\/cases\\\\/us\\\\/2023\\\\/1?__cf_chl_rt_tk=li6hiYtSDcPHtpv7f6sM6vyxrK.GmQ0K_SVzdQwACfs-1708779029-0.0-3111\" + window._cf_chl_opt.cOgUHash);cpo.onload = function() {history.replaceState(null, null, ogU);}}document.getElementsByTagName(\\'head\\')[0].appendChild(cpo);}());</script></body></html>', metadata={'source': 'https://casetext.com/cases/us/2023/1', 'title': 'Just a moment...', 'language': 'en-US'})]"
            ]
          },
          "metadata": {},
          "execution_count": 34
        }
      ]
    },
    {
      "cell_type": "code",
      "source": [
        "from langchain_community.document_loaders import WebBaseLoader"
      ],
      "metadata": {
        "id": "avfGKaWbqyzN"
      },
      "execution_count": null,
      "outputs": []
    },
    {
      "cell_type": "code",
      "source": [
        "import re"
      ],
      "metadata": {
        "id": "zusbEQYlsEOg"
      },
      "execution_count": null,
      "outputs": []
    },
    {
      "cell_type": "code",
      "source": [
        "def extract_href(html_tag):\n",
        "    # Define the regular expression pattern to match the href attribute\n",
        "    pattern = r'href=\"([^\"]*)\"'\n",
        "\n",
        "    # Use re.search to find the first match of the pattern in the HTML tag\n",
        "    match = re.search(pattern, html_tag)\n",
        "\n",
        "    # If a match is found, return the value of the href attribute\n",
        "    if match:\n",
        "        return match.group(1)\n",
        "    else:\n",
        "        return None"
      ],
      "metadata": {
        "id": "VFKXBLsYsAYn"
      },
      "execution_count": null,
      "outputs": []
    },
    {
      "cell_type": "code",
      "source": [
        "html_tag = new_doc_3[0].page_content\n",
        "href_value = extract_href(html_tag)\n",
        "print(href_value)  # Output: /case/a-w-v-princeton-pub-sch-bd"
      ],
      "metadata": {
        "colab": {
          "base_uri": "https://localhost:8080/"
        },
        "id": "QyGDWIAdsFDY",
        "outputId": "1c90b245-396b-45e6-976d-607933c855ab"
      },
      "execution_count": null,
      "outputs": [
        {
          "output_type": "stream",
          "name": "stdout",
          "text": [
            "None\n"
          ]
        }
      ]
    },
    {
      "cell_type": "code",
      "source": [
        "def extract_hrefs(html_content):\n",
        "    # Define the regular expression pattern to match the href attribute\n",
        "    pattern = r'href=\"([^\"]*/case/[^\"]*)\"'\n",
        "\n",
        "    # Use re.findall to find all matches of the pattern in the HTML content\n",
        "    hrefs = re.findall(pattern, html_content)\n",
        "\n",
        "    # Join the list of href values using commas\n",
        "    hrefs_string = '\\\", \\\"https://casetext.com'.join(hrefs)\n",
        "\n",
        "    return hrefs_string\n",
        "\n",
        "# Example usage:\n",
        "# Assuming new_doc_3[0].page_content contains the HTML content\n",
        "html_content = new_doc_3[0].page_content\n",
        "\n",
        "# Extract href values\n",
        "href_values = extract_hrefs(html_content)\n"
      ],
      "metadata": {
        "id": "UK7ruJnJv7Me"
      },
      "execution_count": null,
      "outputs": []
    },
    {
      "cell_type": "code",
      "source": [
        "# Display all the extracted links\n",
        "href_values"
      ],
      "metadata": {
        "colab": {
          "base_uri": "https://localhost:8080/",
          "height": 36
        },
        "id": "0viTi77uwZr2",
        "outputId": "fbdb41c3-f7c4-41ab-d31e-fa8f87541748"
      },
      "execution_count": null,
      "outputs": [
        {
          "output_type": "execute_result",
          "data": {
            "text/plain": [
              "''"
            ],
            "application/vnd.google.colaboratory.intrinsic+json": {
              "type": "string"
            }
          },
          "metadata": {},
          "execution_count": 19
        }
      ]
    },
    {
      "cell_type": "code",
      "source": [
        "case_links = [link for link in href_values if \"/case/\" in link]\n",
        "\n",
        "print(case_links)"
      ],
      "metadata": {
        "colab": {
          "base_uri": "https://localhost:8080/"
        },
        "id": "EVqWsg1IwRdi",
        "outputId": "0752e0ac-a8a7-455c-c3fb-f228c2dde289"
      },
      "execution_count": null,
      "outputs": [
        {
          "output_type": "stream",
          "name": "stdout",
          "text": [
            "[]\n"
          ]
        }
      ]
    },
    {
      "cell_type": "code",
      "source": [
        "from bs4 import BeautifulSoup as Soup\n",
        "\n",
        "url = \"https://casetext.com/case/barinholtz-v-homeadvisor-inc\"\n",
        "loader = RecursiveUrlLoader(\n",
        "    url=url, max_depth=2, extractor=lambda x: Soup(x, \"html.parser\").text\n",
        ")\n",
        "page_content_required = loader.load()"
      ],
      "metadata": {
        "id": "BHgGYyoYxkiq"
      },
      "execution_count": null,
      "outputs": []
    },
    {
      "cell_type": "code",
      "source": [
        "page_content_required"
      ],
      "metadata": {
        "colab": {
          "base_uri": "https://localhost:8080/"
        },
        "id": "HkCj-d5ixriO",
        "outputId": "e3ced09b-c970-47ef-b4ef-0c9571549c45"
      },
      "execution_count": null,
      "outputs": [
        {
          "output_type": "execute_result",
          "data": {
            "text/plain": [
              "[Document(page_content='Just a moment...Enable JavaScript and cookies to continue', metadata={'source': 'https://casetext.com/case/barinholtz-v-homeadvisor-inc', 'title': 'Just a moment...', 'language': 'en-US'})]"
            ]
          },
          "metadata": {},
          "execution_count": 38
        }
      ]
    },
    {
      "cell_type": "code",
      "source": [
        "from bs4 import BeautifulSoup as Soup\n",
        "\n",
        "n = 1\n",
        "\n",
        "while n<=2:\n",
        "  n = n+1\n",
        "  url = f\"https://casetext.com/cases/us/2023/{n}\"\n",
        "  loader = RecursiveUrlLoader(\n",
        "      url=url, max_depth=3\n",
        "  )\n",
        "  new_doc_temp = loader.load()\n",
        "\n",
        "\n",
        "\n"
      ],
      "metadata": {
        "id": "M5CdoY3xGRZM"
      },
      "execution_count": null,
      "outputs": []
    },
    {
      "cell_type": "code",
      "source": [
        "new_doc_temp"
      ],
      "metadata": {
        "colab": {
          "base_uri": "https://localhost:8080/"
        },
        "id": "cDm2Lb7-H9fR",
        "outputId": "798b8be6-1eb4-4540-b21a-be0e197cc91f"
      },
      "execution_count": null,
      "outputs": [
        {
          "output_type": "execute_result",
          "data": {
            "text/plain": [
              "[Document(page_content='<!DOCTYPE html><html lang=\"en-US\"><head><title>Just a moment...</title><meta http-equiv=\"Content-Type\" content=\"text/html; charset=UTF-8\"><meta http-equiv=\"X-UA-Compatible\" content=\"IE=Edge\"><meta name=\"robots\" content=\"noindex,nofollow\"><meta name=\"viewport\" content=\"width=device-width,initial-scale=1\"><style>*{box-sizing:border-box;margin:0;padding:0}html{line-height:1.15;-webkit-text-size-adjust:100%;color:#313131}button,html{font-family:system-ui,-apple-system,BlinkMacSystemFont,Segoe UI,Roboto,Helvetica Neue,Arial,Noto Sans,sans-serif,Apple Color Emoji,Segoe UI Emoji,Segoe UI Symbol,Noto Color Emoji}@media (prefers-color-scheme:dark){body{background-color:#222;color:#d9d9d9}body a{color:#fff}body a:hover{color:#ee730a;text-decoration:underline}body .lds-ring div{border-color:#999 transparent transparent}body .font-red{color:#b20f03}body .big-button,body .pow-button{background-color:#4693ff;color:#1d1d1d}body #challenge-success-text{background-image:url(data:image/svg+xml;base64,PHN2ZyB4bWxucz0iaHR0cDovL3d3dy53My5vcmcvMjAwMC9zdmciIHdpZHRoPSIzMiIgaGVpZ2h0PSIzMiIgZmlsbD0ibm9uZSIgdmlld0JveD0iMCAwIDI2IDI2Ij48cGF0aCBmaWxsPSIjZDlkOWQ5IiBkPSJNMTMgMGExMyAxMyAwIDEgMCAwIDI2IDEzIDEzIDAgMCAwIDAtMjZtMCAyNGExMSAxMSAwIDEgMSAwLTIyIDExIDExIDAgMCAxIDAgMjIiLz48cGF0aCBmaWxsPSIjZDlkOWQ5IiBkPSJtMTAuOTU1IDE2LjA1NS0zLjk1LTQuMTI1LTEuNDQ1IDEuMzg1IDUuMzcgNS42MSA5LjQ5NS05LjYtMS40Mi0xLjQwNXoiLz48L3N2Zz4=)}body #challenge-error-text{background-image:url(data:image/svg+xml;base64,PHN2ZyB4bWxucz0iaHR0cDovL3d3dy53My5vcmcvMjAwMC9zdmciIHdpZHRoPSIzMiIgaGVpZ2h0PSIzMiIgZmlsbD0ibm9uZSI+PHBhdGggZmlsbD0iI0IyMEYwMyIgZD0iTTE2IDNhMTMgMTMgMCAxIDAgMTMgMTNBMTMuMDE1IDEzLjAxNSAwIDAgMCAxNiAzbTAgMjRhMTEgMTEgMCAxIDEgMTEtMTEgMTEuMDEgMTEuMDEgMCAwIDEtMTEgMTEiLz48cGF0aCBmaWxsPSIjQjIwRjAzIiBkPSJNMTcuMDM4IDE4LjYxNUgxNC44N0wxNC41NjMgOS41aDIuNzgzem0tMS4wODQgMS40MjdxLjY2IDAgMS4wNTcuMzg4LjQwNy4zODkuNDA3Ljk5NCAwIC41OTYtLjQwNy45ODQtLjM5Ny4zOS0xLjA1Ny4zODktLjY1IDAtMS4wNTYtLjM4OS0uMzk4LS4zODktLjM5OC0uOTg0IDAtLjU5Ny4zOTgtLjk4NS40MDYtLjM5NyAxLjA1Ni0uMzk3Ii8+PC9zdmc+)}}body{display:flex;flex-direction:column;min-height:100vh}body.no-js .loading-spinner{visibility:hidden}body.no-js .challenge-running{display:none}body.dark{background-color:#222;color:#d9d9d9}body.dark a{color:#fff}body.dark a:hover{color:#ee730a;text-decoration:underline}body.dark .lds-ring div{border-color:#999 transparent transparent}body.dark .font-red{color:#b20f03}body.dark .big-button,body.dark .pow-button{background-color:#4693ff;color:#1d1d1d}body.dark #challenge-success-text{background-image:url(data:image/svg+xml;base64,PHN2ZyB4bWxucz0iaHR0cDovL3d3dy53My5vcmcvMjAwMC9zdmciIHdpZHRoPSIzMiIgaGVpZ2h0PSIzMiIgZmlsbD0ibm9uZSIgdmlld0JveD0iMCAwIDI2IDI2Ij48cGF0aCBmaWxsPSIjZDlkOWQ5IiBkPSJNMTMgMGExMyAxMyAwIDEgMCAwIDI2IDEzIDEzIDAgMCAwIDAtMjZtMCAyNGExMSAxMSAwIDEgMSAwLTIyIDExIDExIDAgMCAxIDAgMjIiLz48cGF0aCBmaWxsPSIjZDlkOWQ5IiBkPSJtMTAuOTU1IDE2LjA1NS0zLjk1LTQuMTI1LTEuNDQ1IDEuMzg1IDUuMzcgNS42MSA5LjQ5NS05LjYtMS40Mi0xLjQwNXoiLz48L3N2Zz4=)}body.dark #challenge-error-text{background-image:url(data:image/svg+xml;base64,PHN2ZyB4bWxucz0iaHR0cDovL3d3dy53My5vcmcvMjAwMC9zdmciIHdpZHRoPSIzMiIgaGVpZ2h0PSIzMiIgZmlsbD0ibm9uZSI+PHBhdGggZmlsbD0iI0IyMEYwMyIgZD0iTTE2IDNhMTMgMTMgMCAxIDAgMTMgMTNBMTMuMDE1IDEzLjAxNSAwIDAgMCAxNiAzbTAgMjRhMTEgMTEgMCAxIDEgMTEtMTEgMTEuMDEgMTEuMDEgMCAwIDEtMTEgMTEiLz48cGF0aCBmaWxsPSIjQjIwRjAzIiBkPSJNMTcuMDM4IDE4LjYxNUgxNC44N0wxNC41NjMgOS41aDIuNzgzem0tMS4wODQgMS40MjdxLjY2IDAgMS4wNTcuMzg4LjQwNy4zODkuNDA3Ljk5NCAwIC41OTYtLjQwNy45ODQtLjM5Ny4zOS0xLjA1Ny4zODktLjY1IDAtMS4wNTYtLjM4OS0uMzk4LS4zODktLjM5OC0uOTg0IDAtLjU5Ny4zOTgtLjk4NS40MDYtLjM5NyAxLjA1Ni0uMzk3Ii8+PC9zdmc+)}body.light{background-color:transparent;color:#313131}body.light a{color:#0051c3}body.light a:hover{color:#ee730a;text-decoration:underline}body.light .lds-ring div{border-color:#595959 transparent transparent}body.light .font-red{color:#fc574a}body.light .big-button,body.light .pow-button{background-color:#003681;border-color:#003681;color:#fff}body.light #challenge-success-text{background-image:url(data:image/svg+xml;base64,PHN2ZyB4bWxucz0iaHR0cDovL3d3dy53My5vcmcvMjAwMC9zdmciIHdpZHRoPSIzMiIgaGVpZ2h0PSIzMiIgZmlsbD0ibm9uZSIgdmlld0JveD0iMCAwIDI2IDI2Ij48cGF0aCBmaWxsPSIjMzEzMTMxIiBkPSJNMTMgMGExMyAxMyAwIDEgMCAwIDI2IDEzIDEzIDAgMCAwIDAtMjZtMCAyNGExMSAxMSAwIDEgMSAwLTIyIDExIDExIDAgMCAxIDAgMjIiLz48cGF0aCBmaWxsPSIjMzEzMTMxIiBkPSJtMTAuOTU1IDE2LjA1NS0zLjk1LTQuMTI1LTEuNDQ1IDEuMzg1IDUuMzcgNS42MSA5LjQ5NS05LjYtMS40Mi0xLjQwNXoiLz48L3N2Zz4=)}body.light #challenge-error-text{background-image:url(data:image/svg+xml;base64,PHN2ZyB4bWxucz0iaHR0cDovL3d3dy53My5vcmcvMjAwMC9zdmciIHdpZHRoPSIzMiIgaGVpZ2h0PSIzMiIgZmlsbD0ibm9uZSI+PHBhdGggZmlsbD0iI2ZjNTc0YSIgZD0iTTE2IDNhMTMgMTMgMCAxIDAgMTMgMTNBMTMuMDE1IDEzLjAxNSAwIDAgMCAxNiAzbTAgMjRhMTEgMTEgMCAxIDEgMTEtMTEgMTEuMDEgMTEuMDEgMCAwIDEtMTEgMTEiLz48cGF0aCBmaWxsPSIjZmM1NzRhIiBkPSJNMTcuMDM4IDE4LjYxNUgxNC44N0wxNC41NjMgOS41aDIuNzgzem0tMS4wODQgMS40MjdxLjY2IDAgMS4wNTcuMzg4LjQwNy4zODkuNDA3Ljk5NCAwIC41OTYtLjQwNy45ODQtLjM5Ny4zOS0xLjA1Ny4zODktLjY1IDAtMS4wNTYtLjM4OS0uMzk4LS4zODktLjM5OC0uOTg0IDAtLjU5Ny4zOTgtLjk4NS40MDYtLjM5NyAxLjA1Ni0uMzk3Ii8+PC9zdmc+)}a{background-color:transparent;color:#0051c3;text-decoration:none;transition:color .15s ease}a:hover{color:#ee730a;text-decoration:underline}.main-content{margin:8rem auto;max-width:60rem;width:100%}.heading-favicon{height:2rem;margin-right:.5rem;width:2rem}@media (width <= 720px){.main-content{margin-top:4rem}.heading-favicon{height:1.5rem;width:1.5rem}}.footer,.main-content{padding-left:1.5rem;padding-right:1.5rem}.main-wrapper{align-items:center;display:flex;flex:1;flex-direction:column}.font-red{color:#b20f03}.spacer{margin:2rem 0}.h1{font-size:2.5rem;font-weight:500;line-height:3.75rem}.h2{font-weight:500}.core-msg,.h2{font-size:1.5rem;line-height:2.25rem}.body-text,.core-msg{font-weight:400}.body-text{font-size:1rem;line-height:1.25rem}@media (width <= 720px){.h1{font-size:1.5rem;line-height:1.75rem}.h2{font-size:1.25rem}.core-msg,.h2{line-height:1.5rem}.core-msg{font-size:1rem}}#challenge-error-text{background-image:url(data:image/svg+xml;base64,PHN2ZyB4bWxucz0iaHR0cDovL3d3dy53My5vcmcvMjAwMC9zdmciIHdpZHRoPSIzMiIgaGVpZ2h0PSIzMiIgZmlsbD0ibm9uZSI+PHBhdGggZmlsbD0iI2ZjNTc0YSIgZD0iTTE2IDNhMTMgMTMgMCAxIDAgMTMgMTNBMTMuMDE1IDEzLjAxNSAwIDAgMCAxNiAzbTAgMjRhMTEgMTEgMCAxIDEgMTEtMTEgMTEuMDEgMTEuMDEgMCAwIDEtMTEgMTEiLz48cGF0aCBmaWxsPSIjZmM1NzRhIiBkPSJNMTcuMDM4IDE4LjYxNUgxNC44N0wxNC41NjMgOS41aDIuNzgzem0tMS4wODQgMS40MjdxLjY2IDAgMS4wNTcuMzg4LjQwNy4zODkuNDA3Ljk5NCAwIC41OTYtLjQwNy45ODQtLjM5Ny4zOS0xLjA1Ny4zODktLjY1IDAtMS4wNTYtLjM4OS0uMzk4LS4zODktLjM5OC0uOTg0IDAtLjU5Ny4zOTgtLjk4NS40MDYtLjM5NyAxLjA1Ni0uMzk3Ii8+PC9zdmc+);padding-left:34px}#challenge-error-text,#challenge-success-text{background-repeat:no-repeat;background-size:contain}#challenge-success-text{background-image:url(data:image/svg+xml;base64,PHN2ZyB4bWxucz0iaHR0cDovL3d3dy53My5vcmcvMjAwMC9zdmciIHdpZHRoPSIzMiIgaGVpZ2h0PSIzMiIgZmlsbD0ibm9uZSIgdmlld0JveD0iMCAwIDI2IDI2Ij48cGF0aCBmaWxsPSIjMzEzMTMxIiBkPSJNMTMgMGExMyAxMyAwIDEgMCAwIDI2IDEzIDEzIDAgMCAwIDAtMjZtMCAyNGExMSAxMSAwIDEgMSAwLTIyIDExIDExIDAgMCAxIDAgMjIiLz48cGF0aCBmaWxsPSIjMzEzMTMxIiBkPSJtMTAuOTU1IDE2LjA1NS0zLjk1LTQuMTI1LTEuNDQ1IDEuMzg1IDUuMzcgNS42MSA5LjQ5NS05LjYtMS40Mi0xLjQwNXoiLz48L3N2Zz4=);padding-left:42px}.text-center{text-align:center}.big-button{border:.063rem solid #0051c3;border-radius:.313rem;font-size:.875rem;line-height:1.313rem;padding:.375rem 1rem;transition-duration:.2s;transition-property:background-color,border-color,color;transition-timing-function:ease}.big-button:hover{cursor:pointer}.captcha-prompt:not(.hidden){display:flex}@media (width <= 720px){.captcha-prompt:not(.hidden){flex-wrap:wrap;justify-content:center}}.pow-button{background-color:#0051c3;color:#fff;margin:2rem 0}.pow-button:hover{background-color:#003681;border-color:#003681;color:#fff}.footer{font-size:.75rem;line-height:1.125rem;margin:0 auto;max-width:60rem;width:100%}.footer-inner{border-top:1px solid #d9d9d9;padding-bottom:1rem;padding-top:1rem}.clearfix:after{clear:both;content:\"\";display:table}.clearfix .column{float:left;padding-right:1.5rem;width:50%}.diagnostic-wrapper{margin-bottom:.5rem}.footer .ray-id{text-align:center}.footer .ray-id code{font-family:monaco,courier,monospace}.core-msg,.zone-name-title{overflow-wrap:break-word}@media (width <= 720px){.diagnostic-wrapper{display:flex;flex-wrap:wrap;justify-content:center}.clearfix:after{clear:none;content:none;display:initial;text-align:center}.column{padding-bottom:2rem}.clearfix .column{float:none;padding:0;width:auto;word-break:keep-all}.zone-name-title{margin-bottom:1rem}}.loading-spinner{height:76.391px}.lds-ring{display:inline-block;position:relative}.lds-ring,.lds-ring div{height:1.875rem;width:1.875rem}.lds-ring div{animation:lds-ring 1.2s cubic-bezier(.5,0,.5,1) infinite;border:.3rem solid transparent;border-radius:50%;border-top-color:#313131;box-sizing:border-box;display:block;position:absolute}.lds-ring div:first-child{animation-delay:-.45s}.lds-ring div:nth-child(2){animation-delay:-.3s}.lds-ring div:nth-child(3){animation-delay:-.15s}@keyframes lds-ring{0%{transform:rotate(0)}to{transform:rotate(1turn)}}@media screen and (-ms-high-contrast:active),screen and (-ms-high-contrast:none){.main-wrapper,body{display:block}}</style><meta http-equiv=\"refresh\" content=\"105\"></head><body class=\"no-js\"><div class=\"main-wrapper\" role=\"main\"><div class=\"main-content\"><noscript><div id=\"challenge-error-title\"><div class=\"h2\"><span id=\"challenge-error-text\">Enable JavaScript and cookies to continue</span></div></div></noscript></div></div><script>(function(){window._cf_chl_opt={cvId: \\'3\\',cZone: \"casetext.com\",cType: \\'non-interactive\\',cNounce: \\'5313\\',cRay: \\'85a7d6da7f067970\\',cHash: \\'d8b2ee5ce75aecc\\',cUPMDTk: \"\\\\/cases\\\\/us\\\\/2023\\\\/3?__cf_chl_tk=lNcKj6mli5oQFhSr0z8AAUgseLVfFzsxjNu1YFc48GU-1708779078-0.0-3090\",cFPWv: \\'b\\',cTTimeMs: \\'1000\\',cMTimeMs: \\'105000\\',cTplV: 5,cTplB: \\'cf\\',cK: \"visitor-time\",fa: \"\\\\/cases\\\\/us\\\\/2023\\\\/3?__cf_chl_f_tk=lNcKj6mli5oQFhSr0z8AAUgseLVfFzsxjNu1YFc48GU-1708779078-0.0-3090\",md: \"fXqG1TuHuhH8PKFDl9.cRsK73DrK62gAj7Y9KL4AlyI-1708779078-1.1-Abeh78yL3e9KjdfFwEupRveOTOwzXbXvaqlztQDzQcSrCzwaO0dLU0JxUWpinnZ_u2rCFfVasP2RuZtXQTLNERIyB30adsqET6rZR24kMKQ-97VOXSg7IEnDxcVD_ZByYv_slXA58sha1FAywYB569odNUDcO6Daa5ZpYvjYSSoHBuUIpmphkKEpik9Bjhx-df8pC8Pwl-PFJ9upuv0I5H4uNBvCBdYX7wq2JzJcdU6j2PsMXhSLNwK205OduNlaPXBBeHHRv4f3EoQMd-uB6bycRhq_cVOubfPDyKHHS34rInUxS1fmq9JGBvOGNvOfFnJXCkCkh-UtXQztBg3EJEsBGqYCWPUQ787nkIu4T8yMz-O7GU-lPBvQF125xb8F4DEW0_2VoliKx51HGElfzo_R4LBrjlJq5ZNlyTPa2TR26OPKVxLX5rjdeV1T3uhTpQ3p-K78b_5ZveqEsky3JcQyiFz04FmFD2qQO0BXkrABSD6NKiwy3Wt0iZh5yu-JWcwVLyXsKY88BM1GtG8mDtaBglN8_COpeFWiCh65ZL38WDaFp7e79X7oZsIS4w7Mj0qtZGZOhne4sSlamMjMKP7wGQL4p9VZaFxtheIhk5HZjFTINo-fwcN5KDVQjlgvWiUfapGXovl0zwA7Sk3dl5Auibv1E1S15A9yRQowUV1WYd3z3ehn0PTtu-ELm7OJIzsTGzAXWbrd-TCoMm5zcucXTn4nbfwOFv5J5PDP4qY2LWQjzUBEW_dnZzc13je3cGON1YWAQll1sPLWMg1tkAtofjTLvj2291jrYzqKJLHOLBXYG5clAsTwLPcSntPDTJ4fTgKVabP2Ma3FyZ3_QvUXQAF38UHHcrIzXLDVyuH91PuexunPqu99BsHXK0we6ywtN92dcxLn80H-qYx9DBvCiUpdepwZR3jv278RQ5qWK0M0JBM7atgx-0wyuf7uZLx_BvdQKI49ZjKVyPYbrm9Vhdl63iMofdfjKFocWPPrMHCGP30MhgUPIueFX8aU4Lciq5ibEzoHRvIbw-ihthCO_Jg6Sx0-NnFdtYTqNnja6LSuUTpbtByIY7g26fMjBVAvIsQHK0Vv5_JPr0aArt6pR1pW6oVvY-7JToDOYEnDg_wkT0flElSrf_hgUTMgN2SDfZJ9PBuBVaVdTNm4Ky6bxs-9YmaKS0sNyPWIFo6EVIJc4JUXs8sXNWdT8MNxF8q4FLQNkE1fpntUpNTXdUBgUI4vD4aGXdCNFyHSZc8_ITLM_J5zEVAJPip9jnCx4-Y4Of2Z9lwzJ7FZHqqDFp9K6J14vp6wW68Tp2QbXWsXqNB91bFdFh0M-aJUWNEzTAX-Ac04IczOjl9frU_N4daEr0WSTH3XX99vM7x_oAuoEOkfgHVvXUjU_cviaptJXohBV6BZPPDoS4feoD8zOHxbJfMBp_UCfQtKpZSEIa8sT149V5jJMj1kLWuzsgkY6hm1hVw5bjXA6jjW6hW5O7CJPukRDij7dPsnH0Mc5MkLlU3t4L0z8OF7L4imb-3V3uvGpiawUg7cJAIdrHsOtC_-c2BiJYJl5au95zw9bQhpdWLPcrsrbXP6dCrd9ulVc28tDwPh02MSK-eGxVsr3iBLgQ7ux6WaVPSFwnEIfQVIlu0NY3kFmjzDXpK5vBOhDBX8edWnghBdJ-F1YWhQvzlubI_aq7WCu7TU0VbnOqjslGoFTsJmTyCPeiZ6dYda8RIf44oKNDpXv5efwN0Iql6Mcnaf2YQmBCgwxpvbGH7fTpV9m9IPoAP5HNeePAff3gmRpUDLGEu4Mw4Q4xAXT9Q1Pa76y64c3BvadsnnUnSXh0EBaZZX1wMItlHkJRUPMMMHOMR4PBcccx0scFmxXh0dEZAq008GWeOs6pvSBSJjYlJocWaihHtiv_fVjCs0xISlQIH-TGxj2s7MM7_2DPeiF0QXfo7-Eca1gLf7-ljDEGB8fqLiATNLKuWcxquSc5pBxurgK3WsckdW8vuaW5Gsk8Uqv2hazbq1oHRsuDdXHN6GrfjdBj7Et4pgj86tb7na1iKWBSmxVgcfCEDvEN3bAT-Zl_XQw1wn3Eo0941Veb_wDfq9sRE93fZK4QvaRHWKiUIGCYsp8QLhTy3fMc3kYgw5ZsfWeFc3PSoW849WHPNCIYLQi07ChuOywV4AiSKI0W-HHtdkvO5jGREi_UGt3qltEcTsz7Lvo9J3n4oo88wxuPbVKYwYZLE3E8GWYRYLXWEefJ69qjpblFCWbWlRkW6-TBMYGhxdes0FUVrq3ARVXXpN6rG4i8aC2G7jMtdHHtH8PNkDZ7SIV4VKPdcecKrWl5I_Q_18qRGckUt6RI32N6Euee3voGN8Q6BTCE46a7QAmSm1IO4LY7Agj6AcvtT80XuUCnEXG4SUzDrpTn-I2MRvBP7KOx6vrDkGufEh4Mb3L2lw1MCKsSxHjv6W5QOQGP_uGoJ_AjGjAxOoOhYP-Gp9Y4QZRs2YiA5b-PJ0a50JxKTiViz8u02PRQtLfsrMUDO87py2H3Mdk5Ux1dF8GiBRAWHA4vBkLEsQfQhH5phbbQHHAattxRbQNqdXFx_KEdwyAK8SYVQlU0qbQCMWMWjuaxsnHWW4UC2aWVhEhRSpROOqXvJ64mkX3WuyD0FPajecNWKXpyPLaC7okfAI6Iu-Q2WBKrJMw-maJQPiZn3pCr4oF0pHhnLDJCOYLfFL3KR8PtmEq14VkGJYkPfzbftgAhvtwuhbhlNACF96njq_hZRC83UkSoA4ZhjD3Fj1wjbyr8B99o5e0SAYTnwXWDLotDyb5EQfefEhvQsxpu7NT80D0-JMUfc4LyG204OaO7SDqTviI_-c-u8IM6-e-SLwuaqn7xL_yUa-yWGsZNMuRjMnGsgVxblkwi8iRx6NU8sa-JnHXngjhs3B8OwufZ7IFG8lPaHU9TuTo_57WEnAogUTHAkdj14GHnsky_Xm4OEWhmGWMhVpnS7JVvMfpXK1oQCoX9DaFtOmdq5q8XcDgyUplEGQ0vsXHlo\",mdrd: \"eDqQIWbffBclBdYGVbIjwi8VhEs0ObOxQCkR_z65ovU-1708779078-1.1-AXLwiMCVipNiPUMBD_DkR5NwdxAhHq-W3tMWl8PNWcAMMmvkiwKH7JvPPZZnrQv0so47C2DpdSEzVmbBH8B-DCgNrVA2h-fTPia2dY3NUCmzA3sbKgt5X6K7xM8hv12Gb4lVsujV2TdVCntLBU8nBu5WvO-YA4S9mCB--NgbGaGk0GdcxILWBUSp0kg7O5a_QDzr1FoXxfNf_3LAwX5gt_m1x8IkAZm_4J39Fx0f4Wtmz7nOfJrsn8-GIUz14wxRZkU76-lNZ9jzT1C-DQFA0JrS0wk1XRK0tvYWmgSpIOOqwVOQTFtA3IwLn8zuhzEbSUzGG2pPDWO9dYlKd7k4v78bxC01Wk6SFikCUNj1L8rOM171YJyLp9upQTBZph4bFpzCIOiQP9S8B9VgoPI3H-IqImRrspGU4Uq1OtQJZy4Ro2wfZgWTvTMXZdlQxxQGK426RWAL_S0uJLOaV3bEGd_J8L2aZa19ZMs_9FDJx-JqXdr8GPN1xogqAeBCbm3Hjmnob5rclK-kSW69serDK6dRhIZQTJvMDeexLmYGsAWwr2ZAx3SIHmuUQsMB-U_wghis36C40KnnoVAXf-ZRd-_DJ6vNgtnEcKX6nLcKdjx1mDJo-l3GQDefEZrRakIbo2uhMLjlng02Uyzi-rPQ7TkibUV8TcCTtUm1thUTHu3UlkJ6y8KzG0T2hhMME0_OjCKB65yZ6kSYSbQZN5nk4ocO4vaqDPvG-3xjbv9cEKSSRYBTq87PflNb3vGj2HB5zrab9Loij1fQfLGlbO1cIabR3RlZ_6MSam5OsLNDpMG8vmlpJKUDuMNFcxshfsoOvDSCMy_BYACPKY-OTRcLE9egc1RRj27nfQ8HzRCU0L9WeHzCVxDk-J74QlXjo6jVO30JNOrmmKX6cyYH_4tuA6PjTUpVxrljZSz_J9kDUKGhtMpkRUqADjoInnUwsaGvLGKWKiE3ONDqaza8zycyS7oivNHnKVnEDvZXSV-PO1ND0f2cIWvAjIHrAsLjqKVOe38lP-5HAZ8pFTe4XZqvFr8hdinJ9amDZIrWUbNK65CHFuidoPaOMxjf4Xh0o7qr_Kc1rZUFtNOPbt57YKKrBb2T9i6PdKQXqpr71O4CddhCtGimH9KAFy_vI7MGs3pNC1o1Al6ItMgvYBUYLklioUCho9kYTv1lAuY2dIqac7HC3FieMKIsaKKyJR7Vh4f4Fx9PMenSuWUQcslqqU8uCUd_pi-z8VZ0PuTCFN84fKQzWwaKpuri2Bhj2BI4v61g0umF44VzMJKYzsa85pA6gUEBacavyb0a7JIo6p00qn1CTmTZ8-Uv5I85gW9p-8p440Qe-BHp08uDxftIOtOPWlvuBhMPOvFlzqKp0PwELr0MhehFf2prrh8KCwU23gLF558w9FrKfyLE75OVxH1y-iGjgnEyrAEf2PrtnGrhPBywHAjsw8NmJ4JCkLwEmHpofi9S3sYhkwwLFvWCipF7oR3QZY8ce85-8eMwEr9hthnVZI_Xwkq5QXcCG7QNI_L_6NK0MzJUAjdn3VmVw_kGC2M5xo0fWE3fRH2gVgfI7hymdhNhQmalZbz53wEKZkmjr_zdybpW9hm46QhEaIZpkZJh4OrWoI-RPGuPuXe9awsC5ygwmrzZxRb4rICvUdbHk4EcRvmTABVXGSGjbQ3MfsA8TV4qJ0wLoo6eRWBUg_gA_8lZKq_sv8-zHDr5gn9ZoAWgfP3w58DAZw4uxyoprz4eTKjvWhMv2gJheD7cSkFiIl_v--Px1XVFWbGkGqLacQ\",cRq: {ru: \\'aHR0cHM6Ly9jYXNldGV4dC5jb20vY2FzZXMvdXMvMjAyMy8z\\',ra: \\'cHl0aG9uLXJlcXVlc3RzLzIuMzEuMA==\\',rm: \\'R0VU\\',d: \\'XzsQji7F0bduClGXQbKvTLhkiEPckvTkEnNaAHtIu7ynOqFCNDDg8AVuCxgFB+Fl/SPpyUJRxRnCaC3aQ0nGb+kxIx97qi7bMu/DJ5BNV9jRaiqWc54t6/7vFBnn+mdo7GdT8H5WrpOs10xrNK5/tkeWaxrPcMKrhVs2phh5v4NM1EJVKWo89qDr9+cmQBnWf0skCLsUZJJRp8eIN2A6ulXbiFZHhZ9D7BO1Y6zOHC90biCdI+NWWhGzQCu1RSFyObhpIB8MEpQkXKhBqq9RD+cFRF3G/VDzVUqXDGc1LotR/x2YDqOUsj5/nXGPBlSfL3vH8yg4X0F1NwUmOjiVBCg/ho4KC2e1lIXGP7hwx9dLS2baXvpy1cNHRkiHf91UzGYTmwk0HC6ZEvpvZQ+NGFG/l7P3H5xkSH1UcXf43VluLS/CI3fzKksdRB5THXxdXm56u5R2Md0Ec8tB64RY0zVk8hBqBJubwp+7ubWwSjL3QCya7tZ5uqO5zUjKCSjdFmsL7LPIzAUie0ZbiduoaW99p3HIKOeRiFR6HpZ+cqKpcbJC+hS/08uD69icesHNGCDIOacn0z3G3f8yfDohDQ==\\',t: \\'MTcwODc3OTA3OC44MDYwMDA=\\',cT: Math.floor(Date.now() / 1000),m: \\'9zdyVUSIYSHaKsfENP/ZbLwQJHBcL7JRDzaTEYbU2lc=\\',i1: \\'7gUrvpn2SVh/+VasrihHWg==\\',i2: \\'LCyaLU2C/RsOe3lIkFDLTQ==\\',zh: \\'n/okXsMkQ10VyBLHvX3QPvknxW4WDIl2tfcFY9TfZxQ=\\',uh: \\'YE9XOpG5TeHmhA1zfs5mxC8CrRZzq2a/+r+OU7dliYQ=\\',hh: \\'Z1qKMiUzh6iz8z3kRF0bruO2HFKMqXMHd0fZCsxd3tU=\\',}};var cpo = document.createElement(\\'script\\');cpo.src = \\'/cdn-cgi/challenge-platform/h/b/orchestrate/chl_page/v1?ray=85a7d6da7f067970\\';window._cf_chl_opt.cOgUHash = location.hash === \\'\\' && location.href.indexOf(\\'#\\') !== -1 ? \\'#\\' : location.hash;window._cf_chl_opt.cOgUQuery = location.search === \\'\\' && location.href.slice(0, location.href.length - window._cf_chl_opt.cOgUHash.length).indexOf(\\'?\\') !== -1 ? \\'?\\' : location.search;if (window.history && window.history.replaceState) {var ogU = location.pathname + window._cf_chl_opt.cOgUQuery + window._cf_chl_opt.cOgUHash;history.replaceState(null, null, \"\\\\/cases\\\\/us\\\\/2023\\\\/3?__cf_chl_rt_tk=lNcKj6mli5oQFhSr0z8AAUgseLVfFzsxjNu1YFc48GU-1708779078-0.0-3090\" + window._cf_chl_opt.cOgUHash);cpo.onload = function() {history.replaceState(null, null, ogU);}}document.getElementsByTagName(\\'head\\')[0].appendChild(cpo);}());</script></body></html>', metadata={'source': 'https://casetext.com/cases/us/2023/3', 'title': 'Just a moment...', 'language': 'en-US'})]"
            ]
          },
          "metadata": {},
          "execution_count": 36
        }
      ]
    },
    {
      "cell_type": "code",
      "source": [
        "from bs4 import BeautifulSoup as Soup\n",
        "\n",
        "n = 1\n",
        "href_values=''\n",
        "\n",
        "while n<=12:\n",
        "  n = n+1\n",
        "  url = f\"https://casetext.com/cases/us/2023/{n}\"\n",
        "  loader = RecursiveUrlLoader(\n",
        "      url=url, max_depth=3\n",
        "  )\n",
        "  new_doc_temp = loader.load()\n",
        "  # Assuming new_doc_3[0].page_content contains the HTML content\n",
        "  html_content = new_doc_temp[0].page_content\n",
        "\n",
        "# Extract href values\n",
        "  href_values = extract_hrefs(html_content)"
      ],
      "metadata": {
        "id": "I-j_-r56H_8d"
      },
      "execution_count": null,
      "outputs": []
    }
  ]
}